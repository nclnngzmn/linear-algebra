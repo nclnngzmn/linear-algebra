{
 "cells": [
  {
   "cell_type": "markdown",
   "metadata": {},
   "source": [
    "# Linear Algebra for CpE\n",
    "## Laboratory 3 : Linear Combination and Vector Spaces"
   ]
  },
  {
   "cell_type": "markdown",
   "metadata": {},
   "source": [
    "Now that you have a fundamental knowledge about linear combination, we'll try to visualize it using scientific programming."
   ]
  },
  {
   "cell_type": "markdown",
   "metadata": {},
   "source": [
    "### Objectives\n",
    "At the end of this activity you will be able to:\n",
    "1. Be familiar with representing linear combinations in the 2-dimensional plane.\n",
    "2. Visualize spans using vector fields in Python.\n",
    "3. Perform vector fields operations using scientific programming."
   ]
  },
  {
   "cell_type": "markdown",
   "metadata": {},
   "source": [
    "## Discussion"
   ]
  },
  {
   "cell_type": "code",
   "execution_count": 2,
   "metadata": {},
   "outputs": [],
   "source": [
    "import numpy as np\n",
    "import matplotlib.pyplot as plt\n",
    "%matplotlib inline"
   ]
  },
  {
   "cell_type": "markdown",
   "metadata": {},
   "source": [
    "## Linear Combination"
   ]
  },
  {
   "cell_type": "markdown",
   "metadata": {},
   "source": [
    "It is said that a linear combination is the combination of linear scaling and addition of a vector its bases/components"
   ]
  },
  {
   "cell_type": "markdown",
   "metadata": {},
   "source": [
    "We will try to visualize the vectors and their linear combinations by plotting a sample of real number values for the scalars for the vectors. Let's first try the vectors below:"
   ]
  },
  {
   "cell_type": "markdown",
   "metadata": {},
   "source": [
    "$$X = \\begin{bmatrix} 2\\\\5 \\\\\\end{bmatrix} , Y = \\begin{bmatrix} 7\\\\9 \\\\\\end{bmatrix} $$"
   ]
  },
  {
   "cell_type": "code",
   "execution_count": 12,
   "metadata": {},
   "outputs": [],
   "source": [
    "vectX =  np.array([2,5])\n",
    "vectY =  np.array([7,9])\n",
    "vectR = vectX + vectY"
   ]
  },
  {
   "cell_type": "markdown",
   "metadata": {},
   "source": [
    "#### Span of single vectors"
   ]
  },
  {
   "cell_type": "markdown",
   "metadata": {},
   "source": [
    "As discussed in the lecture, the span of individual vectors can be represented by a line span. Let's take vector $X$ as an example."
   ]
  },
  {
   "cell_type": "markdown",
   "metadata": {},
   "source": [
    "$$X = c\\cdot \\begin{bmatrix} 2\\\\5 \\\\\\end{bmatrix} $$"
   ]
  },
  {
   "cell_type": "code",
   "execution_count": 14,
   "metadata": {},
   "outputs": [
    {
     "data": {
      "image/png": "[encoded data removed]",
      "text/plain": [
       "<Figure size 432x288 with 1 Axes>"
      ]
     },
     "metadata": {
      "needs_background": "light"
     },
     "output_type": "display_data"
    }
   ],
   "source": [
    "# TESTING C VALUES AND MULTIPY IT TO vectX and vectY\n",
    "c = np.arange(-10,10,0.25)                            # MAKE A SAMPLE OF RANGE\n",
    "#.arange() --  will create arrays with regularly incrementing values\n",
    "\n",
    "#LINEARLY INDEPENDENT VECTOR -- OVERLAPPING DOTS(PLOTTING SINGLE VECTORS)\n",
    "plt.scatter(c*vectX[0],c*vectX[1])                    # MULTIPLYING TO THE UNIT VECTORS\n",
    "# .scatter() -- to see every point\n",
    "plt.scatter(c*vectY[0],c*vectY[1])                     # DIFF VECTORS; SAME CONSTANT\n",
    "                                                       # OUTPUT: INTERSECTING LINES AT THE ORIGIN\n",
    "# ADD EXAMPLE: LINEARLY DEPENDENT VECTOR\n",
    "#plt.scatter(c*4, c*10)\n",
    "\n",
    "plt.xlim(-10,10)                                       # NOTE:\n",
    "plt.ylim(-10,10)                                           # 1 LINEAR EQUATION = MAP A LINE\n",
    "                                                           # 2 (COMBINED)LINEAR EQUATION = PLANE\n",
    "\n",
    "plt.axhline(y=0, color='k')\n",
    "plt.axvline(x=0, color='k')\n",
    "\n",
    "plt.grid()\n",
    "plt.show()\n",
    "\n",
    "# WANTIP:\n",
    "  # DOCUMENTATION OF LIBRARIES IN PYTHON\n",
    "    # -- USED TO KNOW HOW TO IMPLEMENT A PLOTTING\n",
    "    \n",
    "  # MATPLOTLIB DOCUMENTATION\n",
    "    # eksampol:\n",
    "        # matplotlib.pyplot.scatter() -- documentation explains how to use it\n",
    "        \n",
    "  # NUMPY DOCUMENTATION\n",
    "    # exsampol:\n",
    "       # numpy.dot() -- dot product of two arrays (will explain and how to use)"
   ]
  },
  {
   "cell_type": "markdown",
   "metadata": {},
   "source": [
    "### Span of a linear combination of vectors"
   ]
  },
  {
   "cell_type": "markdown",
   "metadata": {},
   "source": [
    "So what if we are to plot the span of a linear combination of vectors? We can visualize as a plane on the 2-dimensional coordinate system. Let's take the span of the linear combination below:"
   ]
  },
  {
   "cell_type": "markdown",
   "metadata": {},
   "source": [
    "$$S = \\begin{Bmatrix} c_1 \\cdot\\begin{bmatrix} 1\\\\0 \\\\\\end{bmatrix}, \n",
    "c_2 \\cdot \\begin{bmatrix} 1\\\\-1 \\\\\\end{bmatrix}\\end{Bmatrix} $$"
   ]
  },
  {
   "cell_type": "code",
   "execution_count": 10,
   "metadata": {},
   "outputs": [
    {
     "data": {
      "image/png": "[encoded data removed]",
      "text/plain": [
       "<Figure size 432x288 with 1 Axes>"
      ]
     },
     "metadata": {
      "needs_background": "light"
     },
     "output_type": "display_data"
    }
   ],
   "source": [
    "# DECLARE 2 VECTORS                                    # S(SPAN) = {COLUMN VECTORS}\n",
    "vectA = np.array([1,0])                    #FOR EVERY LINEAR COMBINATION = DISTINCT PLOTTING UNLESS LINEARLY DEPENDENT\n",
    "vectB = np.array([1,-1])\n",
    "\n",
    "R = np.arange(-10,10,1)                                #FROM -10 TO +10 WITH A STEP OF 1\n",
    "\n",
    "c1, c2 = np.meshgrid(R,R)                          #CHANGING THE VALUES OF VECTORS -- CHANGE THE BEHAVIOR OF THE SPAN\n",
    "#.meshgrid -- gives a set of 2D values of all possible c1(R) and c2(R) from the range of -10 to +10\n",
    "#print (c1)                                           #OUTPUT: 10X10 NUMBER LIST OF VALUES FROM -10 TO +10\n",
    "\n",
    "#vectR = vectA + vectB\n",
    "\n",
    "#CREATING A SPAN:\n",
    "spanRx = c1*vectA[0] + c2*vectB[0]                     #1ST LINE OF DOT PRODUCT (MULTIPLYING C1&C2 TO VECTORS)\n",
    "spanRy = c1*vectA[1] + c2*vectB[1]                     #MULTIPLY THE 2ND ELEMENTS\n",
    "# plt.scatter(R*vectA[0],R*vectA[1])\n",
    "plt.scatter(spanRx,spanRy, s=10, alpha=0.75)        #PLOTTING THE SPAN; s=size of the dots; alpha=opacity/transparency\n",
    "\n",
    "plt.axhline(y=0, color='k')\n",
    "plt.axvline(x=0, color='k')\n",
    "plt.grid()\n",
    "plt.show()\n",
    "#OUTPUT: SPECIFIC VECTORS INSIDE THE PLANE"
   ]
  },
  {
   "cell_type": "markdown",
   "metadata": {},
   "source": [
    "Take note that if vectors are seen to be as a 2-dimensional span we can say it has a Rank of 2 or $\\mathbb{R}^2$. But if the span of the linear combination of vectors are seen to be like a line, they are said to be <b> linearly dependent </b> and they have a rank of 1 or $\\mathbb{R}^1$."
   ]
  },
  {
   "cell_type": "markdown",
   "metadata": {},
   "source": [
    "# Activity"
   ]
  },
  {
   "cell_type": "markdown",
   "metadata": {},
   "source": [
    "### Task 1"
   ]
  },
  {
   "cell_type": "markdown",
   "metadata": {},
   "source": [
    "Try different linear combinations using different scalar values. In your methodology discuss the different functions that you have used, the  linear equation and vector form of the linear combination, and the flowchart for declaring and displaying linear combinations. Please make sure that your flowchart has only few words and not putting the entire code as it is bad practice. In your results, display and discuss the linear combination visualization you made. You should use the cells below for displaying the equation markdows using LaTeX and your code."
   ]
  },
  {
   "cell_type": "markdown",
   "metadata": {},
   "source": [
    "$$\n",
    "A\\!=\\!2x\\!+\\!-4y\\!\\\\\n",
    "B\\!=\\!-8x\\!+\\!5y\\!\n",
    "$$"
   ]
  },
  {
   "cell_type": "markdown",
   "metadata": {},
   "source": [
    "$$A = \\begin{bmatrix} 2\\\\-4 \\\\\\end{bmatrix}\\, ; \\, B = \\begin{bmatrix} -8\\\\5 \\\\\\end{bmatrix} $$"
   ]
  },
  {
   "cell_type": "code",
   "execution_count": 3,
   "metadata": {},
   "outputs": [],
   "source": [
    "vectorA = np.array([2,-4])\n",
    "vectorB = np.array([-8,5])"
   ]
  },
  {
   "cell_type": "code",
   "execution_count": 4,
   "metadata": {},
   "outputs": [
    {
     "data": {
      "image/png": "[encoded data removed]",
      "text/plain": [
       "<Figure size 432x288 with 1 Axes>"
      ]
     },
     "metadata": {
      "needs_background": "light"
     },
     "output_type": "display_data"
    }
   ],
   "source": [
    "n = np.arange(-15, 15, 0.50)\n",
    "\n",
    "plt.scatter(n*vectorA[0], n*vectorA[1], color='pink', s=100)\n",
    "plt.scatter(n*vectorB[0], n*vectorB[1], color='mediumvioletred', s=100)\n",
    "\n",
    "plt.xlim(-15, 15)\n",
    "plt.ylim(-15, 15)\n",
    "\n",
    "plt.axhline(y=0, color='magenta')\n",
    "plt.axvline(x=0, color='purple')\n",
    "\n",
    "plt.grid()\n",
    "plt.show()"
   ]
  },
  {
   "cell_type": "markdown",
   "metadata": {},
   "source": [
    "### Task 2"
   ]
  },
  {
   "cell_type": "markdown",
   "metadata": {},
   "source": [
    "Try making three unque spans using different linear combinations . In your methodology discuss the different functions that you have used, the  linear equations and vector form of span, and the flowchart for declaring and displaying span. Please make sure that your flowchart has only few words and not putting the entire code as it is bad practice. In your results, display and discuss the span visualization you made. You should use the cells below for displaying the equation markdows using LaTeX and your code."
   ]
  },
  {
   "cell_type": "markdown",
   "metadata": {},
   "source": [
    "### * SPAN 1 *"
   ]
  },
  {
   "cell_type": "markdown",
   "metadata": {},
   "source": [
    "$$\n",
    "A\\!=\\!-2x\\!+\\!4y\\!\\\\\n",
    "B\\!=\\!10x\\!+\\!-5y\\!\n",
    "$$"
   ]
  },
  {
   "cell_type": "markdown",
   "metadata": {},
   "source": [
    "$$S = \\begin{Bmatrix} A \\cdot\\begin{bmatrix} -2\\\\4 \\\\\\end{bmatrix}, \n",
    "B \\cdot \\begin{bmatrix} 10\\\\-5 \\\\\\end{bmatrix}\\end{Bmatrix} $$"
   ]
  },
  {
   "cell_type": "code",
   "execution_count": 79,
   "metadata": {},
   "outputs": [],
   "source": [
    "vectorA = np.array([-2,4])\n",
    "vectorB = np.array([10,-5])"
   ]
  },
  {
   "cell_type": "code",
   "execution_count": 80,
   "metadata": {},
   "outputs": [
    {
     "data": {
      "image/png": "[encoded data removed]",
      "text/plain": [
       "<Figure size 432x288 with 1 Axes>"
      ]
     },
     "metadata": {
      "needs_background": "light"
     },
     "output_type": "display_data"
    }
   ],
   "source": [
    "R = np.arange(-50,50,15)\n",
    "a, b = np.meshgrid(R, R)\n",
    "\n",
    "spanRx = a*vectorA[0] + b*vectorB[0]\n",
    "spanRy = a*vectorA[1] + b*vectorB[1]\n",
    "\n",
    "\n",
    "plt.scatter(spanRx, spanRy, color='lightpink', s=1000, marker=\"*\", alpha=0.8)\n",
    "\n",
    "plt.axhline(y=0, color='crimson')\n",
    "plt.axvline(x=0, color='deeppink')\n",
    "\n",
    "plt.grid()\n",
    "plt.show()"
   ]
  },
  {
   "cell_type": "markdown",
   "metadata": {},
   "source": [
    "### * SPAN 2 *"
   ]
  },
  {
   "cell_type": "markdown",
   "metadata": {},
   "source": [
    "$$\n",
    "A\\!=\\!25x\\!+\\!50y\\!\\\\\n",
    "B\\!=\\!x\\!+\\!-50y\\!\n",
    "$$"
   ]
  },
  {
   "cell_type": "markdown",
   "metadata": {},
   "source": [
    "$$S = \\begin{Bmatrix} A \\cdot\\begin{bmatrix} 25\\\\50 \\\\\\end{bmatrix}, \n",
    "B \\cdot \\begin{bmatrix} 1\\\\-50 \\\\\\end{bmatrix}\\end{Bmatrix} $$"
   ]
  },
  {
   "cell_type": "code",
   "execution_count": 7,
   "metadata": {},
   "outputs": [],
   "source": [
    "vectorA = np.array([25,50])\n",
    "vectorB = np.array([1,-50])"
   ]
  },
  {
   "cell_type": "code",
   "execution_count": 8,
   "metadata": {},
   "outputs": [
    {
     "data": {
      "image/png": "[encoded data removed]",
      "text/plain": [
       "<Figure size 432x288 with 1 Axes>"
      ]
     },
     "metadata": {
      "needs_background": "light"
     },
     "output_type": "display_data"
    }
   ],
   "source": [
    "R = np.arange(-50,50,30)\n",
    "a, b = np.meshgrid(R, R)\n",
    "\n",
    "spanRx = a*vectorA[0] + b*vectorB[0]\n",
    "spanRy = a*vectorA[1] + b*vectorB[1]\n",
    "\n",
    "\n",
    "plt.scatter(spanRx, spanRy, color='lightcoral', s=500, marker=\"X\", alpha=0.85)\n",
    "\n",
    "plt.axhline(y=0, color='chocolate')\n",
    "plt.axvline(x=0, color='sandybrown')\n",
    "\n",
    "plt.grid()\n",
    "plt.show()"
   ]
  },
  {
   "cell_type": "markdown",
   "metadata": {},
   "source": [
    "### * SPAN 3 *"
   ]
  },
  {
   "cell_type": "markdown",
   "metadata": {},
   "source": [
    "$$\n",
    "A\\!=\\!25x\\!+\\!25y\\!\\\\\n",
    "B\\!=\\!25x\\!+\\!-30y\\!\n",
    "$$"
   ]
  },
  {
   "cell_type": "markdown",
   "metadata": {},
   "source": [
    "$$S = \\begin{Bmatrix} A \\cdot\\begin{bmatrix} 25\\\\25 \\\\\\end{bmatrix}, \n",
    "B \\cdot \\begin{bmatrix} 25\\\\-30 \\\\\\end{bmatrix}\\end{Bmatrix} $$"
   ]
  },
  {
   "cell_type": "code",
   "execution_count": 41,
   "metadata": {},
   "outputs": [],
   "source": [
    "vectorA = np.array([25,25])\n",
    "vectorB = np.array([25,-30])"
   ]
  },
  {
   "cell_type": "code",
   "execution_count": 45,
   "metadata": {},
   "outputs": [
    {
     "data": {
      "image/png": "[encoded data removed]",
      "text/plain": [
       "<Figure size 432x288 with 1 Axes>"
      ]
     },
     "metadata": {
      "needs_background": "light"
     },
     "output_type": "display_data"
    }
   ],
   "source": [
    "R = np.arange(-50,50,20)\n",
    "a, b = np.meshgrid(R, R)\n",
    "\n",
    "spanRx = a*vectorA[0] + b*vectorB[0]\n",
    "spanRy = a*vectorA[1] + b*vectorB[1]\n",
    "\n",
    "\n",
    "plt.scatter(spanRx, spanRy, color='bisque', s=500, marker=\"D\")\n",
    "\n",
    "plt.axhline(y=0, color='gold')\n",
    "plt.axvline(x=0, color='olive')\n",
    "\n",
    "plt.grid()\n",
    "plt.show()"
   ]
  }
 ],
 "metadata": {
  "kernelspec": {
   "display_name": "Python 3",
   "language": "python",
   "name": "python3"
  },
  "language_info": {
   "codemirror_mode": {
    "name": "ipython",
    "version": 3
   },
   "file_extension": ".py",
   "mimetype": "text/x-python",
   "name": "python",
   "nbconvert_exporter": "python",
   "pygments_lexer": "ipython3",
   "version": "3.8.3"
  }
 },
 "nbformat": 4,
 "nbformat_minor": 4
}
