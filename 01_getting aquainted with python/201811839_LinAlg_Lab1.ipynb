{
 "cells": [
  {
   "cell_type": "markdown",
   "metadata": {},
   "source": [
    "# Linear Algebra (CpE210A)"
   ]
  },
  {
   "cell_type": "markdown",
   "metadata": {},
   "source": [
    "### Laboratory 1: Getting Aquainted with Python"
   ]
  },
  {
   "cell_type": "markdown",
   "metadata": {},
   "source": [
    "<br> Coded and submitted by: \n",
    "<br> GUZMAN, Nicole Anne R.\n",
    "<br> 58011"
   ]
  },
  {
   "cell_type": "markdown",
   "metadata": {},
   "source": [
    "GRADED CELL 1: The cell below is composed of two lists, one named party and one named levels, each lists has elements and required to be displayed together, using the looping statement for(), I enclose both collection in a parenthesis which enables both collection to be iterated simultaneously, or as tuples. Then I used the function zip() so that elements on both collections will be executed."
   ]
  },
  {
   "cell_type": "code",
   "execution_count": 19,
   "metadata": {},
   "outputs": [
    {
     "name": "stdout",
     "output_type": "stream",
     "text": [
      "Charmander at level 15\n",
      "Pidgey at level 11\n",
      "Sandshrew at level 18\n",
      "Rattata at level 5\n",
      "Abra at level 14\n"
     ]
    }
   ],
   "source": [
    "party = ['Charmander', 'Pidgey', 'Sandshrew', 'Rattata', 'Abra']\n",
    "levels = [15, 11, 18, 5, 14]\n",
    "for (pokemon, lev) in zip (party, levels): print(pokemon, 'at level', lev) "
   ]
  },
  {
   "cell_type": "markdown",
   "metadata": {},
   "source": [
    "GRADE CELL 2: In this cell, there's a list named as reserves and the elements in there are in tuples, composed of a pokemon and its corresponding level. In using the .sort() function beside the name of the list, it allows to sort the list but in accordance of what is in the key, in this case, lambda is used as the key which means that the list will be sorted by number, beside the lambda is x:x[1], in which x would be a variable for the number (the level in the tuple), and x[1], corresponds to the position of the level, reverse=True is also in the parameter, which indicates of sorting descendingly. A variable picks is created where the names of the pokemons will be stored and reserves[:3] means that, upon sorting descendingly, only 3 pokemons will be stored in variable picks."
   ]
  },
  {
   "cell_type": "code",
   "execution_count": 15,
   "metadata": {},
   "outputs": [
    {
     "name": "stdout",
     "output_type": "stream",
     "text": [
      "['Unown', 'Magikarp', 'Feebas']\n"
     ]
    }
   ],
   "source": [
    "reserves = [('Onix', 10), \n",
    "            ('Slowpoke', 18), \n",
    "            ('Dialga', 2), \n",
    "            ('Magikarp', 32), \n",
    "            ('Feebas', 22), \n",
    "            ('Swablu', 19), \n",
    "            ('Regigigas', 3), \n",
    "            ('Unown', 50)]\n",
    "           \n",
    "reserves.sort(key = lambda x:x[1], reverse = True)\n",
    "picks = [pokemon[0] for pokemon in reserves[:3]]\n",
    "print(picks)"
   ]
  },
  {
   "cell_type": "markdown",
   "metadata": {},
   "source": [
    "GRADED CELL 3: A function create_party is created with parameters party and candidates, which means that when the function create_party is used, the data from party and candidates will be passed. The suggested_parties is where the combinations of the pokemons from the party list and a pokemon from the picks will be stored, .append()  is used to add a single element on the list, with candidates as an the element being appended. suggested_parties will be printed and .pop() function to remove every candidate it appended after printing. "
   ]
  },
  {
   "cell_type": "code",
   "execution_count": 21,
   "metadata": {},
   "outputs": [],
   "source": [
    "def create_party(party, candidates):\n",
    "    suggested_parties = [party]\n",
    "    \n",
    "    suggested_parties.append(candidates[0])\n",
    "    print(suggested_parties)\n",
    "    suggested_parties.pop()\n",
    "    suggested_parties.append(candidates[1])\n",
    "    print(suggested_parties)\n",
    "    suggested_parties.pop()\n",
    "    suggested_parties.append(candidates[2])     \n",
    "    return suggested_parties"
   ]
  },
  {
   "cell_type": "code",
   "execution_count": 20,
   "metadata": {},
   "outputs": [
    {
     "name": "stdout",
     "output_type": "stream",
     "text": [
      "['Charmander', 'Pidgey', 'Sandshrew', 'Rattata', 'Abra', 'Unown']\n",
      "['Charmander', 'Pidgey', 'Sandshrew', 'Rattata', 'Abra', 'Magikarp']\n"
     ]
    },
    {
     "data": {
      "text/plain": [
       "['Charmander', 'Pidgey', 'Sandshrew', 'Rattata', 'Abra', 'Feebas']"
      ]
     },
     "execution_count": 20,
     "metadata": {},
     "output_type": "execute_result"
    }
   ],
   "source": [
    "create_party(party, picks)"
   ]
  }
 ],
 "metadata": {
  "kernelspec": {
   "display_name": "Python 3",
   "language": "python",
   "name": "python3"
  },
  "language_info": {
   "codemirror_mode": {
    "name": "ipython",
    "version": 3
   },
   "file_extension": ".py",
   "mimetype": "text/x-python",
   "name": "python",
   "nbconvert_exporter": "python",
   "pygments_lexer": "ipython3",
   "version": "3.8.3"
  }
 },
 "nbformat": 4,
 "nbformat_minor": 4
}
